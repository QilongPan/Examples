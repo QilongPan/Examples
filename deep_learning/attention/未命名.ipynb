{
 "cells": [
  {
   "cell_type": "code",
   "execution_count": 1,
   "metadata": {},
   "outputs": [],
   "source": [
    "from math import sqrt\n",
    "\n",
    "import torch\n",
    "import torch.nn as nn"
   ]
  },
  {
   "cell_type": "code",
   "execution_count": 2,
   "metadata": {},
   "outputs": [],
   "source": [
    "class Self_Attention(nn.Module):\n",
    "    # input : batch_size * seq_len * input_dim\n",
    "    # q : batch_size * input_dim * dim_k\n",
    "    # k : batch_size * input_dim * dim_k\n",
    "    # v : batch_size * input_dim * dim_v\n",
    "    def __init__(self, input_dim, dim_k, dim_v):\n",
    "        super(Self_Attention, self).__init__()\n",
    "        self.q = nn.Linear(input_dim, dim_k)\n",
    "        self.k = nn.Linear(input_dim, dim_k)\n",
    "        self.v = nn.Linear(input_dim, dim_v)\n",
    "        self._norm_fact = 1 / sqrt(dim_k)\n",
    "\n",
    "    def forward(self, x):\n",
    "        Q = self.q(x)  # Q: batch_size * seq_len * dim_k\n",
    "        K = self.k(x)  # K: batch_size * seq_len * dim_k\n",
    "        V = self.v(x)  # V: batch_size * seq_len * dim_v\n",
    "\n",
    "        atten = (\n",
    "            nn.Softmax(dim=-1)(torch.bmm(Q, K.permute(0, 2, 1)))\n",
    "            * self._norm_fact\n",
    "        )  # Q * K.T() # batch_size * seq_len * seq_len\n",
    "\n",
    "        output = torch.bmm(\n",
    "            atten, V\n",
    "        )  # Q * K.T() * V # batch_size * seq_len * dim_v\n",
    "\n",
    "        return output\n"
   ]
  },
  {
   "cell_type": "code",
   "execution_count": 3,
   "metadata": {},
   "outputs": [],
   "source": [
    "X = torch.randn(4,3,2)"
   ]
  },
  {
   "cell_type": "code",
   "execution_count": 4,
   "metadata": {},
   "outputs": [
    {
     "data": {
      "text/plain": [
       "tensor([[[-0.4395,  0.5981],\n",
       "         [-0.4380, -0.5342],\n",
       "         [ 1.3244,  0.2491]],\n",
       "\n",
       "        [[ 0.5067,  0.0293],\n",
       "         [ 1.2101,  0.5148],\n",
       "         [-0.5870, -0.4357]],\n",
       "\n",
       "        [[-1.1413,  1.5060],\n",
       "         [ 0.4430,  1.0895],\n",
       "         [ 2.2553,  0.8129]],\n",
       "\n",
       "        [[-1.5835, -1.2745],\n",
       "         [ 1.1963,  0.6706],\n",
       "         [ 0.5570,  0.5289]]])"
      ]
     },
     "execution_count": 4,
     "metadata": {},
     "output_type": "execute_result"
    }
   ],
   "source": [
    "X"
   ]
  },
  {
   "cell_type": "code",
   "execution_count": 5,
   "metadata": {},
   "outputs": [],
   "source": [
    "self_attention = Self_Attention(2,4,5)"
   ]
  },
  {
   "cell_type": "code",
   "execution_count": 6,
   "metadata": {},
   "outputs": [],
   "source": [
    "res = self_attention(X)"
   ]
  },
  {
   "cell_type": "code",
   "execution_count": 7,
   "metadata": {},
   "outputs": [
    {
     "data": {
      "text/plain": [
       "tensor([[[-3.5565e-01,  1.0159e-01, -2.5908e-01, -1.7877e-01, -4.5910e-02],\n",
       "         [-3.5945e-01,  8.2470e-02, -2.5623e-01, -2.1338e-01, -3.2045e-02],\n",
       "         [-3.6035e-01,  4.7512e-02, -2.4232e-01, -2.9357e-01, -7.0854e-04]],\n",
       "\n",
       "        [[-3.7625e-01,  3.7725e-02, -2.6096e-01, -2.7229e-01, -7.4061e-03],\n",
       "         [-3.7055e-01,  3.3232e-02, -2.5079e-01, -2.9885e-01,  2.3704e-03],\n",
       "         [-3.8739e-01,  4.6998e-02, -2.8102e-01, -2.1925e-01, -2.6959e-02]],\n",
       "\n",
       "        [[ 1.1833e-01,  5.2782e-01,  2.3766e-01, -4.9412e-01,  2.9493e-02],\n",
       "         [-8.7404e-03,  3.2137e-01,  1.4459e-01, -6.2764e-01,  9.4245e-02],\n",
       "         [-1.6882e-01,  5.5810e-02,  2.9727e-02, -8.0881e-01,  1.8087e-01]],\n",
       "\n",
       "        [[-5.2465e-01,  7.9635e-02, -4.9276e-01,  2.4125e-01, -1.9264e-01],\n",
       "         [-4.1031e-01,  7.6446e-02, -3.2682e-01, -8.5592e-02, -7.6742e-02],\n",
       "         [-4.5395e-01,  7.8101e-02, -3.9034e-01,  4.0177e-02, -1.2138e-01]]],\n",
       "       grad_fn=<BmmBackward0>)"
      ]
     },
     "execution_count": 7,
     "metadata": {},
     "output_type": "execute_result"
    }
   ],
   "source": [
    "res"
   ]
  },
  {
   "cell_type": "code",
   "execution_count": 8,
   "metadata": {},
   "outputs": [
    {
     "data": {
      "text/plain": [
       "torch.Size([4, 3, 5])"
      ]
     },
     "execution_count": 8,
     "metadata": {},
     "output_type": "execute_result"
    }
   ],
   "source": [
    "res.shape"
   ]
  },
  {
   "cell_type": "code",
   "execution_count": 9,
   "metadata": {},
   "outputs": [],
   "source": [
    "class Self_Attention_Muti_Head(nn.Module):\n",
    "    # input : batch_size * seq_len * input_dim\n",
    "    # q : batch_size * input_dim * dim_k\n",
    "    # k : batch_size * input_dim * dim_k\n",
    "    # v : batch_size * input_dim * dim_v\n",
    "    def __init__(self,input_dim,dim_k,dim_v,nums_head):\n",
    "        super(Self_Attention_Muti_Head,self).__init__()\n",
    "        assert dim_k % nums_head == 0\n",
    "        assert dim_v % nums_head == 0\n",
    "        self.q = nn.Linear(input_dim,dim_k)\n",
    "        self.k = nn.Linear(input_dim,dim_k)\n",
    "        self.v = nn.Linear(input_dim,dim_v)\n",
    "        \n",
    "        self.nums_head = nums_head\n",
    "        self.dim_k = dim_k\n",
    "        self.dim_v = dim_v\n",
    "        self._norm_fact = 1 / sqrt(dim_k)\n",
    "        \n",
    "    \n",
    "    def forward(self,x):\n",
    "        Q = self.q(x).reshape(-1,x.shape[0],x.shape[1],self.dim_k // self.nums_head) \n",
    "        K = self.k(x).reshape(-1,x.shape[0],x.shape[1],self.dim_k // self.nums_head) \n",
    "        V = self.v(x).reshape(-1,x.shape[0],x.shape[1],self.dim_v // self.nums_head)\n",
    "        print(x.shape)\n",
    "        print(Q.size())\n",
    "\n",
    "        atten = nn.Softmax(dim=-1)(torch.matmul(Q,K.permute(0,1,3,2))) # Q * K.T() # batch_size * seq_len * seq_len\n",
    "        \n",
    "        output = torch.matmul(atten,V).reshape(x.shape[0],x.shape[1],-1) # Q * K.T() * V # batch_size * seq_len * dim_v\n",
    "        return output    "
   ]
  },
  {
   "cell_type": "code",
   "execution_count": null,
   "metadata": {},
   "outputs": [],
   "source": []
  }
 ],
 "metadata": {
  "kernelspec": {
   "display_name": "Python 3",
   "language": "python",
   "name": "python3"
  },
  "language_info": {
   "codemirror_mode": {
    "name": "ipython",
    "version": 3
   },
   "file_extension": ".py",
   "mimetype": "text/x-python",
   "name": "python",
   "nbconvert_exporter": "python",
   "pygments_lexer": "ipython3",
   "version": "3.7.6"
  }
 },
 "nbformat": 4,
 "nbformat_minor": 4
}
